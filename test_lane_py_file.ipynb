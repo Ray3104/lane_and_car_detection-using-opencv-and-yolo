{
  "nbformat": 4,
  "nbformat_minor": 0,
  "metadata": {
    "colab": {
      "name": "test_lane_py file.ipynb",
      "provenance": [],
      "authorship_tag": "ABX9TyMsfFqpAaq4xF68AZS0JD5m",
      "include_colab_link": true
    },
    "kernelspec": {
      "name": "python3",
      "display_name": "Python 3"
    },
    "language_info": {
      "name": "python"
    }
  },
  "cells": [
    {
      "cell_type": "markdown",
      "metadata": {
        "id": "view-in-github",
        "colab_type": "text"
      },
      "source": [
        "<a href=\"https://colab.research.google.com/github/Ray3104/lane_and_car_detection-using-opencv-and-yolo/blob/main/test_lane_py_file.ipynb\" target=\"_parent\"><img src=\"https://colab.research.google.com/assets/colab-badge.svg\" alt=\"Open In Colab\"/></a>"
      ]
    },
    {
      "cell_type": "code",
      "metadata": {
        "id": "LmEF20_wyNmW"
      },
      "source": [
        "!rm -r /content/lane_and_car_detection-using-opencv-and-yolo"
      ],
      "execution_count": 83,
      "outputs": []
    },
    {
      "cell_type": "code",
      "metadata": {
        "colab": {
          "base_uri": "https://localhost:8080/"
        },
        "id": "834zAhCXsLb8",
        "outputId": "6d6419c2-9a6a-4f24-fbd5-8c1afd21839f"
      },
      "source": [
        "%cd /content\n",
        "!git clone https://github.com/Ray3104/lane_and_car_detection-using-opencv-and-yolo.git"
      ],
      "execution_count": 84,
      "outputs": [
        {
          "output_type": "stream",
          "text": [
            "/content\n",
            "Cloning into 'lane_and_car_detection-using-opencv-and-yolo'...\n",
            "remote: Enumerating objects: 96, done.\u001b[K\n",
            "remote: Counting objects: 100% (96/96), done.\u001b[K\n",
            "remote: Compressing objects: 100% (95/95), done.\u001b[K\n",
            "remote: Total 96 (delta 58), reused 0 (delta 0), pack-reused 0\u001b[K\n",
            "Unpacking objects: 100% (96/96), done.\n"
          ],
          "name": "stdout"
        }
      ]
    },
    {
      "cell_type": "code",
      "metadata": {
        "colab": {
          "base_uri": "https://localhost:8080/"
        },
        "id": "DVkKY0HxOqe0",
        "outputId": "fe262e5b-6c5a-4049-c2db-9adcc140c27e"
      },
      "source": [
        "%cd /content\n",
        "from google.colab import drive\n",
        "drive.mount('/content/gdrive')"
      ],
      "execution_count": 2,
      "outputs": [
        {
          "output_type": "stream",
          "text": [
            "/content\n",
            "Mounted at /content/gdrive\n"
          ],
          "name": "stdout"
        }
      ]
    },
    {
      "cell_type": "code",
      "metadata": {
        "colab": {
          "base_uri": "https://localhost:8080/"
        },
        "id": "6Ung1q13r_Xa",
        "outputId": "75cb3a7c-7a05-4486-d44a-b57389debece"
      },
      "source": [
        "# this creates a symbolic link so that now the path /content/gdrive/My\\ Drive/ is equal to /mydrive\n",
        "!ln -s /content/gdrive/My\\ Drive/ /mydrive\n",
        "!ls /mydrive"
      ],
      "execution_count": 3,
      "outputs": [
        {
          "output_type": "stream",
          "text": [
            " ANN.gdoc\t\t     'My Drive'\n",
            "'Colab Notebooks'\t     'MyDrive Drive'\n",
            " darknet\t\t      preprocessed\n",
            " data\t\t\t      results.avi\n",
            " Dataset\t\t     'Traffic Signs Dataset in YOLO format.zip'\n",
            "'K-NN analysis report.gdoc'   yolov4\n",
            " MLCourse.2021\t\t      YOLOv4_weight\n"
          ],
          "name": "stdout"
        }
      ]
    },
    {
      "cell_type": "code",
      "metadata": {
        "id": "2URRgqtnqj_h"
      },
      "source": [
        "!python3 /content/lane_and_car_detection-using-opencv-and-yolo/lane.py"
      ],
      "execution_count": null,
      "outputs": []
    }
  ]
}